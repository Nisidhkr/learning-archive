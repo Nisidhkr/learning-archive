{
 "cells": [
  {
   "cell_type": "code",
   "execution_count": null,
   "id": "32370895",
   "metadata": {},
   "outputs": [
    {
     "name": "stdout",
     "output_type": "stream",
     "text": [
      "{1: 0.027777777777777776, 2: 0.08333333333333333, 3: 0.1388888888888889, 4: 0.19444444444444445, 5: 0.25, 6: 0.3055555555555556}\n"
     ]
    }
   ],
   "source": [
    "from itertools import product\n",
    "from collections import Counter\n",
    "\n",
    "outcomes = list(product(range(1,7), repeat=2))\n",
    "\n",
    "max_vals = [max(a,b) for a,b in outcomes]\n",
    "\n",
    "\n",
    "\n",
    "counts = Counter(max_vals)\n",
    "\n",
    "dist = {k: counts[k]/36 for k in range(1,7)}\n",
    "print(dist)"
   ]
  },
  {
   "cell_type": "code",
   "execution_count": null,
   "id": "b02b04ce",
   "metadata": {},
   "outputs": [
    {
     "name": "stdout",
     "output_type": "stream",
     "text": [
      "Mean = 3.02\n",
      "Variance = 2.45\n",
      "P(X >= 4) = 0.4\n"
     ]
    }
   ],
   "source": [
    "x = [0, 1, 2, 3, 4, 5, 6]\n",
    "f = [4, 7, 11, 14, 13, 8, 3]\n",
    "n = sum(f)\n",
    "mean = sum(xi * fi for xi, fi in zip(x, f)) / n\n",
    "\n",
    "\n",
    "ex2 = sum((xi**2) * fi for xi, fi in zip(x, f)) / n\n",
    "\n",
    "\n",
    "variance = ex2 - mean**2\n",
    "freq_at_least4 = sum(fi for xi, fi in zip(x, f) if xi >= 4)\n",
    "\n",
    "prob_at_least4 = freq_at_least4 / n\n",
    "\n",
    "print(\"Mean =\", round(mean, 2))              \n",
    "\n",
    "\n",
    "print(\"Variance =\", round(variance, 2))\n",
    "print(\"P(X >= 4) =\", round(prob_at_least4, 2))"
   ]
  }
 ],
 "metadata": {
  "kernelspec": {
   "display_name": "Python 3",
   "language": "python",
   "name": "python3"
  },
  "language_info": {
   "codemirror_mode": {
    "name": "ipython",
    "version": 3
   },
   "file_extension": ".py",
   "mimetype": "text/x-python",
   "name": "python",
   "nbconvert_exporter": "python",
   "pygments_lexer": "ipython3",
   "version": "3.13.6"
  }
 },
 "nbformat": 4,
 "nbformat_minor": 5
}
