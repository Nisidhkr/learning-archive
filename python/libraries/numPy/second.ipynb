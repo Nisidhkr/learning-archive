{
 "cells": [
  {
   "cell_type": "markdown",
   "metadata": {},
   "source": [
    "## Numpy Array Oppertaion "
   ]
  },
  {
   "cell_type": "code",
   "execution_count": 7,
   "metadata": {},
   "outputs": [],
   "source": [
    "import numpy as np\n"
   ]
  },
  {
   "cell_type": "code",
   "execution_count": 8,
   "metadata": {},
   "outputs": [
    {
     "name": "stdout",
     "output_type": "stream",
     "text": [
      "basic indexing: \n",
      " [3 4 5 6 7]\n",
      "with step:\n",
      "  [2 5]\n",
      "negetive indexing: \n",
      " 5\n"
     ]
    }
   ],
   "source": [
    "arr= np.array([1,2,3,4,5,6,7,8,9,10])\n",
    "print(\"basic indexing: \\n\",arr[2:7])\n",
    "print(\"with step:\\n \",arr[1:7:3])\n",
    "print(\"negetive indexing: \\n\",arr[-6])"
   ]
  },
  {
   "cell_type": "code",
   "execution_count": 9,
   "metadata": {},
   "outputs": [
    {
     "name": "stdout",
     "output_type": "stream",
     "text": [
      "spesific element:  3\n",
      "entire row:  [1 5 8 3]\n",
      "entire column:  [6 3 7]\n",
      "<built-in method transpose of numpy.ndarray object at 0x0000023AFF0EFB70>\n"
     ]
    }
   ],
   "source": [
    "twoDarray= np.array([[1,3,4,6],\n",
    "                     [1,5,8,3],\n",
    "                     [0,9,8,7]])\n",
    "print(\"spesific element: \",twoDarray[1,3])\n",
    "print(\"entire row: \",twoDarray[1,:])\n",
    "print(\"entire column: \",twoDarray[:,3])\n",
    "x= twoDarray[:,3]\n",
    "print(x.transpose)\n"
   ]
  },
  {
   "cell_type": "markdown",
   "metadata": {},
   "source": [
    "## Sorting "
   ]
  },
  {
   "cell_type": "code",
   "execution_count": 10,
   "metadata": {},
   "outputs": [
    {
     "name": "stdout",
     "output_type": "stream",
     "text": [
      "sorted array: [ 1  1  2  2  2  3  3  4  5  5  6  8  9 12 70 90]\n",
      "sorted 2D array coulmn: \n",
      "  [[1 2 0 2]\n",
      " [1 6 4 4]\n",
      " [5 7 5 5]\n",
      " [9 9 7 9]]\n",
      "sorted 2D array row: \n",
      "  [[1 2 4 5]\n",
      " [4 5 7 9]\n",
      " [5 6 7 9]\n",
      " [0 1 2 9]]\n"
     ]
    }
   ],
   "source": [
    "unsorted = np.array([1,2,3,5,6,12,2,4,8,9,1,90,70,2,3,5])\n",
    "print(\"sorted array:\",np.sort(unsorted))\n",
    "\n",
    "twoDunsortedarray= np.array([ [1,2,4,5]\n",
    "                             ,[9,7,5,4]\n",
    "                             ,[5,6,7,9]\n",
    "                             ,[1,9,0,2]])\n",
    "print(\"sorted 2D array coulmn: \\n \",np.sort(twoDunsortedarray,axis=0))\n",
    "print(\"sorted 2D array row: \\n \",np.sort(twoDunsortedarray,axis=1))\n"
   ]
  },
  {
   "cell_type": "markdown",
   "metadata": {},
   "source": [
    "## Filtering"
   ]
  },
  {
   "cell_type": "code",
   "execution_count": 11,
   "metadata": {},
   "outputs": [
    {
     "name": "stdout",
     "output_type": "stream",
     "text": [
      "even numbers: \n",
      " [ 2  4  6  8 10 20]\n"
     ]
    }
   ],
   "source": [
    "num=np.array([1,5,8,6,3,7,2,4,10,15,20])\n",
    "evenNumbers = num[num%2==0]\n",
    "print(\"even numbers: \\n\",np.sort(evenNumbers))"
   ]
  },
  {
   "cell_type": "markdown",
   "metadata": {},
   "source": [
    "## Filter with mask "
   ]
  },
  {
   "cell_type": "code",
   "execution_count": 12,
   "metadata": {},
   "outputs": [
    {
     "name": "stdout",
     "output_type": "stream",
     "text": [
      "No.greater than 10:  [15 16 20 29 31 41]\n"
     ]
    }
   ],
   "source": [
    "anArray = np.array([5,9,6,8,2,4,6,1,2,3,4,5,6,7,8,9,10,15,16,20,41,29,31])\n",
    "mask = anArray>10\n",
    "print(\"No.greater than 10: \",np.sort(anArray[mask]) )"
   ]
  },
  {
   "cell_type": "markdown",
   "metadata": {},
   "source": [
    "## Fancy indexing v/s np.where()"
   ]
  },
  {
   "cell_type": "code",
   "execution_count": 13,
   "metadata": {},
   "outputs": [
    {
     "name": "stdout",
     "output_type": "stream",
     "text": [
      "[ 9  4 78  5  6  9]\n",
      "NP where [15 16 20 29 31 41 78]\n",
      "NP where (7,)\n",
      "(array([ 9, 18, 19, 20, 21, 22, 23]),)\n"
     ]
    }
   ],
   "source": [
    "anArrayfindex = np.array([5,9,6,8,9,4,6,8,3,78,3,4,5,6,7,8,9,10,15,16,20,41,29,31])\n",
    "indices=[1,5,9,0,6,4]\n",
    "print(anArrayfindex[indices])\n",
    "\n",
    "whereResult= np.where(anArrayfindex>10)\n",
    "print(\"NP where\",np.sort(anArrayfindex[whereResult]))\n",
    "print(\"NP where\",np.shape(anArrayfindex[whereResult]))\n",
    "print(whereResult)"
   ]
  },
  {
   "cell_type": "markdown",
   "metadata": {},
   "source": [
    "#### np. whre is used too create array only but with some conditions."
   ]
  },
  {
   "cell_type": "code",
   "execution_count": 14,
   "metadata": {},
   "outputs": [
    {
     "name": "stdout",
     "output_type": "stream",
     "text": [
      "condition Array:  [  5   8   9   6   2  62   4   5   4   9   4  64   1   5 122   5 130  12]\n"
     ]
    }
   ],
   "source": [
    "array=np.array([5,8,9,6,2,31,4,5,4,9,4,32,1,5,61,5,65,12])\n",
    "conditionArray = np.where(array>20,array*2,array)\n",
    "print(\"condition Array: \",conditionArray)"
   ]
  },
  {
   "cell_type": "markdown",
   "metadata": {},
   "source": [
    "## Adding and removing data "
   ]
  },
  {
   "cell_type": "code",
   "execution_count": 15,
   "metadata": {},
   "outputs": [
    {
     "name": "stdout",
     "output_type": "stream",
     "text": [
      "[ 7  9 11 13  5]\n",
      "[1 2 3 4 5 6 7 8 9 0]\n"
     ]
    }
   ],
   "source": [
    "arr1=np.array([1,2,3,4,5])\n",
    "arr2=np.array([6,7,8,9,0])\n",
    "print(arr1+arr2)  # this will add the te elements \n",
    "concatinate = np.concatenate((arr1,arr2))\n",
    "print(concatinate)"
   ]
  },
  {
   "cell_type": "markdown",
   "metadata": {},
   "source": [
    "## array compatibility"
   ]
  },
  {
   "cell_type": "code",
   "execution_count": 16,
   "metadata": {},
   "outputs": [
    {
     "name": "stdout",
     "output_type": "stream",
     "text": [
      "compatobility ahapes:  False\n"
     ]
    }
   ],
   "source": [
    "a= np.array([1,2,3])\n",
    "b= np.array([4,5,5,6])\n",
    "c= np.array([7,8,1,6,9])\n",
    "print(\"compatobility ahapes: \",a.shape==b.shape)\n"
   ]
  },
  {
   "cell_type": "code",
   "execution_count": 17,
   "metadata": {},
   "outputs": [
    {
     "name": "stdout",
     "output_type": "stream",
     "text": [
      "[[1 3]\n",
      " [3 4]\n",
      " [5 6]]\n",
      "[[1 3 7 9]\n",
      " [3 4 9 2]]\n"
     ]
    }
   ],
   "source": [
    "original = np.array([[1,3],[3,4]])\n",
    "new_row= np.array([[5,6]]) \n",
    "with_new_row = np.vstack((original,new_row))\n",
    "print(with_new_row)\n",
    "new_col= np.array([[7,9],[9,2]])\n",
    "with_new_col=np.hstack((original,new_col))\n",
    "print(with_new_col)"
   ]
  },
  {
   "cell_type": "code",
   "execution_count": 18,
   "metadata": {},
   "outputs": [
    {
     "name": "stdout",
     "output_type": "stream",
     "text": [
      "the array after delition:  [1 2 3 7 8]\n"
     ]
    }
   ],
   "source": [
    "ar= np.array([1,2,3,5,7,8])\n",
    "deleted = np.delete(ar,3)\n",
    "print(\"the array after delition: \",deleted)"
   ]
  }
 ],
 "metadata": {
  "kernelspec": {
   "display_name": ".venv",
   "language": "python",
   "name": "python3"
  },
  "language_info": {
   "codemirror_mode": {
    "name": "ipython",
    "version": 3
   },
   "file_extension": ".py",
   "mimetype": "text/x-python",
   "name": "python",
   "nbconvert_exporter": "python",
   "pygments_lexer": "ipython3",
   "version": "3.12.7"
  }
 },
 "nbformat": 4,
 "nbformat_minor": 2
}
