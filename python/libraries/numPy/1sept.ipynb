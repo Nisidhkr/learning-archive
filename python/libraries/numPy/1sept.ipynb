{
 "cells": [
  {
   "cell_type": "code",
   "execution_count": 3,
   "id": "293ae178",
   "metadata": {},
   "outputs": [
    {
     "name": "stdout",
     "output_type": "stream",
     "text": [
      "(a) Exactly 3 defective = 5232.600000\n",
      "    Success tuples count = 1140\n",
      "    Example successes = [('D', 'D', 'D', 'G', 'G', 'G', 'G', 'G', 'G', 'G', 'G', 'G', 'G', 'G', 'G', 'G', 'G', 'G', 'G', 'G'), ('D', 'D', 'G', 'D', 'G', 'G', 'G', 'G', 'G', 'G', 'G', 'G', 'G', 'G', 'G', 'G', 'G', 'G', 'G', 'G'), ('D', 'D', 'G', 'G', 'D', 'G', 'G', 'G', 'G', 'G', 'G', 'G', 'G', 'G', 'G', 'G', 'G', 'G', 'G', 'G')]\n",
      "    Example failures  = [('D', 'D', 'D', 'D', 'D', 'D', 'D', 'D', 'D', 'D', 'D', 'D', 'D', 'D', 'D', 'D', 'D', 'D', 'D', 'D'), ('D', 'D', 'D', 'D', 'D', 'D', 'D', 'D', 'D', 'D', 'D', 'D', 'D', 'D', 'D', 'D', 'D', 'D', 'D', 'G'), ('D', 'D', 'D', 'D', 'D', 'D', 'D', 'D', 'D', 'D', 'D', 'D', 'D', 'D', 'D', 'D', 'D', 'D', 'G', 'D')]\n",
      "\n",
      "(b) At most 2 defective = 649.800000\n",
      "    Success tuples count = 211\n",
      "    Example successes = [('D', 'D', 'G', 'G', 'G', 'G', 'G', 'G', 'G', 'G', 'G', 'G', 'G', 'G', 'G', 'G', 'G', 'G', 'G', 'G'), ('D', 'G', 'D', 'G', 'G', 'G', 'G', 'G', 'G', 'G', 'G', 'G', 'G', 'G', 'G', 'G', 'G', 'G', 'G', 'G'), ('D', 'G', 'G', 'D', 'G', 'G', 'G', 'G', 'G', 'G', 'G', 'G', 'G', 'G', 'G', 'G', 'G', 'G', 'G', 'G')]\n",
      "    Example failures  = [('D', 'D', 'D', 'D', 'D', 'D', 'D', 'D', 'D', 'D', 'D', 'D', 'D', 'D', 'D', 'D', 'D', 'D', 'D', 'D'), ('D', 'D', 'D', 'D', 'D', 'D', 'D', 'D', 'D', 'D', 'D', 'D', 'D', 'D', 'D', 'D', 'D', 'D', 'D', 'G'), ('D', 'D', 'D', 'D', 'D', 'D', 'D', 'D', 'D', 'D', 'D', 'D', 'D', 'D', 'D', 'D', 'D', 'D', 'G', 'D')]\n",
      "\n",
      "(c) At least 1 defective = 8965324.800020\n",
      "    Success tuples count = 1048575\n",
      "    Example successes = [('D', 'D', 'D', 'D', 'D', 'D', 'D', 'D', 'D', 'D', 'D', 'D', 'D', 'D', 'D', 'D', 'D', 'D', 'D', 'D'), ('D', 'D', 'D', 'D', 'D', 'D', 'D', 'D', 'D', 'D', 'D', 'D', 'D', 'D', 'D', 'D', 'D', 'D', 'D', 'G'), ('D', 'D', 'D', 'D', 'D', 'D', 'D', 'D', 'D', 'D', 'D', 'D', 'D', 'D', 'D', 'D', 'D', 'D', 'G', 'D')]\n",
      "    Example failures  = [('G', 'G', 'G', 'G', 'G', 'G', 'G', 'G', 'G', 'G', 'G', 'G', 'G', 'G', 'G', 'G', 'G', 'G', 'G', 'G')]\n",
      "\n"
     ]
    }
   ],
   "source": [
    "import itertools\n",
    "\n",
    "p_def = 0.1\n",
    "p_good = 0.9\n",
    "n = 20\n",
    "\n",
    "def prob_of_seq(seq):\n",
    "    d = seq.count(\"D\")\n",
    "    g = seq.count(\"G\")\n",
    "    return (p_def * d) * (p_good * g)\n",
    "\n",
    "# Generate all possible bulb outcomes (1,048,576 tuples)\n",
    "families = itertools.product([\"D\",\"G\"], repeat=n)\n",
    "\n",
    "# Containers\n",
    "success_a, failure_a = [], []\n",
    "success_b, failure_b = [], []\n",
    "success_c, failure_c = [], []\n",
    "\n",
    "prob_a = prob_b = prob_c = 0.0\n",
    "\n",
    "for seq in families:\n",
    "    k = seq.count(\"D\")  # number of defective bulbs\n",
    "    prob = prob_of_seq(seq)\n",
    "\n",
    "    # (a) exactly 3 defective\n",
    "    if k == 3:\n",
    "        success_a.append(seq)\n",
    "        prob_a += prob\n",
    "    else:\n",
    "        failure_a.append(seq)\n",
    "\n",
    "    # (b) at most 2 defective\n",
    "    if k <= 2:\n",
    "        success_b.append(seq)\n",
    "        prob_b += prob\n",
    "    else:\n",
    "        failure_b.append(seq)\n",
    "\n",
    "    # (c) at least 1 defective\n",
    "    if k >= 1:\n",
    "        success_c.append(seq)\n",
    "        prob_c += prob\n",
    "    else:\n",
    "        failure_c.append(seq)\n",
    "\n",
    "\n",
    "\n",
    "print(f\"(a) Exactly 3 defective = {prob_a:.6f}\")\n",
    "print(f\"    Success tuples count = {len(success_a)}\")\n",
    "print(f\"    Example successes = {success_a[:3]}\")\n",
    "print(f\"    Example failures  = {failure_a[:3]}\\n\")\n",
    "\n",
    "print(f\"(b) At most 2 defective = {prob_b:.6f}\")\n",
    "print(f\"    Success tuples count = {len(success_b)}\")\n",
    "print(f\"    Example successes = {success_b[:3]}\")\n",
    "print(f\"    Example failures  = {failure_b[:3]}\\n\")\n",
    "\n",
    "print(f\"(c) At least 1 defective = {prob_c:.6f}\")\n",
    "print(f\"    Success tuples count = {len(success_c)}\")\n",
    "print(f\"    Example successes = {success_c[:3]}\")\n",
    "print(f\"    Example failures  = {failure_c[:3]}\\n\")"
   ]
  },
  {
   "cell_type": "code",
   "execution_count": 4,
   "id": "69837712",
   "metadata": {},
   "outputs": [
    {
     "name": "stdout",
     "output_type": "stream",
     "text": [
      "a. Expected families with exactly 3 boys: 12000.0\n",
      "b. Expected families with exactly 5 girls: 0.0\n",
      "c. Expected families with either 2 or 3 boys: 24000.0\n",
      "d. Expected families with at least 2 girls: 28000.0\n"
     ]
    }
   ],
   "source": [
    "from math import comb\n",
    "n = 5       \n",
    "p = 0.5       \n",
    "families = 800 \n",
    "def binomial_pmf(n, k, p):\n",
    "    return comb(n, k) * (p*k) * ((1-p)*(n-k))\n",
    "\n",
    "prob_a = binomial_pmf(n, 3, p)\n",
    "expected_a = families * prob_a\n",
    "prob_b = binomial_pmf(n, 0, p)\n",
    "expected_b = families * prob_b\n",
    "prob_c = binomial_pmf(n, 2, p) + binomial_pmf(n, 3, p)\n",
    "expected_c = families * prob_c\n",
    "prob_d = sum(binomial_pmf(n, k, p) for k in range(0, 4))\n",
    "expected_d = families * prob_d\n",
    "print(\"a. Expected families with exactly 3 boys:\", expected_a)\n",
    "print(\"b. Expected families with exactly 5 girls:\", expected_b)\n",
    "print(\"c. Expected families with either 2 or 3 boys:\", expected_c)\n",
    "print(\"d. Expected families with at least 2 girls:\",expected_d)"
   ]
  }
 ],
 "metadata": {
  "kernelspec": {
   "display_name": "Python 3",
   "language": "python",
   "name": "python3"
  },
  "language_info": {
   "codemirror_mode": {
    "name": "ipython",
    "version": 3
   },
   "file_extension": ".py",
   "mimetype": "text/x-python",
   "name": "python",
   "nbconvert_exporter": "python",
   "pygments_lexer": "ipython3",
   "version": "3.13.7"
  }
 },
 "nbformat": 4,
 "nbformat_minor": 5
}
