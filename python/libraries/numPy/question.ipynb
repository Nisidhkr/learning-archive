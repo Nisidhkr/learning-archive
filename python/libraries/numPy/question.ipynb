{
 "cells": [
  {
   "cell_type": "code",
   "execution_count": 3,
   "id": "11ad5e4b",
   "metadata": {},
   "outputs": [
    {
     "name": "stdout",
     "output_type": "stream",
     "text": [
      "Neighbour counts: Counter({'in': 70, 'Studying': 60, 'am': 57, 'I': 57, 'BU': 57})\n",
      "Total neighbours: 301\n",
      "Probabilities:\n",
      "I: 0.1894\n",
      "am: 0.1894\n",
      "Studying: 0.1993\n",
      "in: 0.2326\n",
      "BU: 0.1894\n"
     ]
    }
   ],
   "source": [
    "import random\n",
    "from collections import Counter\n",
    "words = [\"I\", \"am\", \"Studying\", \"in\", \"BU\"]\n",
    "\n",
    "sample = [random.choice(words) for _ in range(1500)]\n",
    "\n",
    "\n",
    "neighbours = []\n",
    "for i in range(len(sample) - 1):\n",
    "    if sample[i] == \"BU\":\n",
    "        neighbours.append(sample[i + 1])\n",
    "\n",
    "count_neighbours = Counter(neighbours)\n",
    "\n",
    "\n",
    "total_neighbours = sum(count_neighbours.values())\n",
    "probabilities = {word: count_neighbours[word] / total_neighbours for word in words}\n",
    "\n",
    "\n",
    "print(\"Neighbour counts:\", count_neighbours)\n",
    "print(\"Total neighbours:\", total_neighbours)\n",
    "print(\"Probabilities:\")\n",
    "for w, p in probabilities.items():\n",
    "    print(f\"{w}: {p:.4f}\")"
   ]
  },
  {
   "cell_type": "code",
   "execution_count": null,
   "id": "fd70eed7",
   "metadata": {},
   "outputs": [
    {
     "name": "stdout",
     "output_type": "stream",
     "text": [
      "Defaulting to user installation because normal site-packages is not writeable\n",
      "Requirement already satisfied: matplotlib in c:\\users\\nisidh_kumar\\appdata\\roaming\\python\\python313\\site-packages (3.10.6)\n",
      "Requirement already satisfied: seaborn in c:\\users\\nisidh_kumar\\appdata\\roaming\\python\\python313\\site-packages (0.13.2)\n",
      "Requirement already satisfied: contourpy>=1.0.1 in c:\\users\\nisidh_kumar\\appdata\\roaming\\python\\python313\\site-packages (from matplotlib) (1.3.3)\n",
      "Requirement already satisfied: cycler>=0.10 in c:\\users\\nisidh_kumar\\appdata\\roaming\\python\\python313\\site-packages (from matplotlib) (0.12.1)\n",
      "Requirement already satisfied: fonttools>=4.22.0 in c:\\users\\nisidh_kumar\\appdata\\roaming\\python\\python313\\site-packages (from matplotlib) (4.59.2)\n",
      "Requirement already satisfied: kiwisolver>=1.3.1 in c:\\users\\nisidh_kumar\\appdata\\roaming\\python\\python313\\site-packages (from matplotlib) (1.4.9)\n",
      "Requirement already satisfied: numpy>=1.23 in c:\\users\\nisidh_kumar\\appdata\\roaming\\python\\python313\\site-packages (from matplotlib) (2.3.2)\n",
      "Requirement already satisfied: packaging>=20.0 in c:\\users\\nisidh_kumar\\appdata\\roaming\\python\\python313\\site-packages (from matplotlib) (25.0)\n",
      "Requirement already satisfied: pillow>=8 in c:\\users\\nisidh_kumar\\appdata\\roaming\\python\\python313\\site-packages (from matplotlib) (11.3.0)\n",
      "Requirement already satisfied: pyparsing>=2.3.1 in c:\\users\\nisidh_kumar\\appdata\\roaming\\python\\python313\\site-packages (from matplotlib) (3.2.3)\n",
      "Requirement already satisfied: python-dateutil>=2.7 in c:\\users\\nisidh_kumar\\appdata\\roaming\\python\\python313\\site-packages (from matplotlib) (2.9.0.post0)\n",
      "Requirement already satisfied: pandas>=1.2 in c:\\users\\nisidh_kumar\\appdata\\roaming\\python\\python313\\site-packages (from seaborn) (2.3.2)\n",
      "Requirement already satisfied: pytz>=2020.1 in c:\\users\\nisidh_kumar\\appdata\\roaming\\python\\python313\\site-packages (from pandas>=1.2->seaborn) (2025.2)\n",
      "Requirement already satisfied: tzdata>=2022.7 in c:\\users\\nisidh_kumar\\appdata\\roaming\\python\\python313\\site-packages (from pandas>=1.2->seaborn) (2025.2)\n",
      "Requirement already satisfied: six>=1.5 in c:\\users\\nisidh_kumar\\appdata\\roaming\\python\\python313\\site-packages (from python-dateutil>=2.7->matplotlib) (1.17.0)\n",
      "Note: you may need to restart the kernel to use updated packages.\n"
     ]
    },
    {
     "ename": "AttributeError",
     "evalue": "type object 'itertools.count' has no attribute 'keys'",
     "output_type": "error",
     "traceback": [
      "\u001b[31m---------------------------------------------------------------------------\u001b[39m",
      "\u001b[31mAttributeError\u001b[39m                            Traceback (most recent call last)",
      "\u001b[36mCell\u001b[39m\u001b[36m \u001b[39m\u001b[32mIn[5]\u001b[39m\u001b[32m, line 6\u001b[39m\n\u001b[32m      4\u001b[39m \u001b[38;5;28;01mimport\u001b[39;00m\u001b[38;5;250m \u001b[39m\u001b[34;01mmatplotlib\u001b[39;00m\u001b[34;01m.\u001b[39;00m\u001b[34;01mpyplot\u001b[39;00m\u001b[38;5;250m \u001b[39m\u001b[38;5;28;01mas\u001b[39;00m\u001b[38;5;250m \u001b[39m\u001b[34;01mplt\u001b[39;00m \n\u001b[32m      5\u001b[39m \u001b[38;5;28;01mimport\u001b[39;00m\u001b[38;5;250m \u001b[39m\u001b[34;01mseaborn\u001b[39;00m\u001b[38;5;250m \u001b[39m\u001b[38;5;28;01mas\u001b[39;00m\u001b[38;5;250m \u001b[39m\u001b[34;01msns\u001b[39;00m\n\u001b[32m----> \u001b[39m\u001b[32m6\u001b[39m X_values = \u001b[38;5;28mlist\u001b[39m(\u001b[43mcount\u001b[49m\u001b[43m.\u001b[49m\u001b[43mkeys\u001b[49m())\n\u001b[32m      7\u001b[39m frequencies = \u001b[38;5;28mlist\u001b[39m(counts.values())\n\u001b[32m      8\u001b[39m probabilities = [freq / total_outcomes \u001b[38;5;28;01mfor\u001b[39;00m freq \u001b[38;5;129;01min\u001b[39;00m frequencies]\n",
      "\u001b[31mAttributeError\u001b[39m: type object 'itertools.count' has no attribute 'keys'"
     ]
    }
   ],
   "source": [
    "pip install matplotlib seaborn\n",
    "\n",
    "from itertools import count\n",
    "import matplotlib.pyplot as plt \n",
    "import seaborn as sns\n",
    "X_values = list(count.keys())\n",
    "frequencies = list(counts.values())\n",
    "probabilities = [freq / total_outcomes for freq in frequencies]\n",
    "plt.figure(figsize=(8, 5))\n",
    "plt.bar(X_values, frequencies, alpha=0.6, label=\"Frequency\", color=\"skyblue\")\n",
    "plt.plot(X_values, [p * total_outcomes for p in probabilities], 'ro-', label=\"Probability × Total Outcomes\")\n",
    "plt.xticks(X_values)\n",
    "plt.xlabel(\"Number of Heads (X)\")\n",
    "plt.ylabel(\"Count / Probability × 16\")\n",
    "plt.title(\"Frequency and Probability of Heads in 4 Coin Tosses\")\n",
    "plt.legend()\n",
    "plt.grid(axis='y', linestyle='--', alpha=0.7)\n",
    "\n",
    "plt.show()"
   ]
  },
  {
   "cell_type": "code",
   "execution_count": 6,
   "id": "655ed1a9",
   "metadata": {},
   "outputs": [
    {
     "name": "stdout",
     "output_type": "stream",
     "text": [
      "P(Heart) = 0.25 1/4\n",
      "P(King) = 0.07692307692307693 1/13\n",
      "P(King | Heart) = 0.07692307692307693 1/13\n"
     ]
    }
   ],
   "source": [
    "from fractions import Fraction\n",
    "p_heart = Fraction(13, 52)          \n",
    "p_king = Fraction(4, 52)            \n",
    "p_king_given_heart = Fraction(1,13) \n",
    "print(\"P(Heart) =\", float(p_heart), p_heart)\n",
    "print(\"P(King) =\", float(p_king), p_king)\n",
    "print(\"P(King | Heart) =\", float(p_king_given_heart), p_king_given_heart)"
   ]
  },
  {
   "cell_type": "code",
   "execution_count": 7,
   "id": "371baaa5",
   "metadata": {},
   "outputs": [
    {
     "name": "stdout",
     "output_type": "stream",
     "text": [
      "positive test: 0.16239316239316243\n"
     ]
    }
   ],
   "source": [
    "TP = 0.95  \n",
    "TN = 0.90  \n",
    "Disease = 0.02   \n",
    "noDisease = 1 - Disease\n",
    "falsePos = 1 - TN\n",
    "\n",
    "positive = (TP * Disease) + (falsePos* noDisease)\n",
    "\n",
    "Bays = (TP * Disease) / positive\n",
    "\n",
    "print(\"positive test:\", Bays)"
   ]
  },
  {
   "cell_type": "markdown",
   "id": "4efc76b2",
   "metadata": {},
   "source": []
  },
  {
   "cell_type": "markdown",
   "id": "db604eae",
   "metadata": {},
   "source": [
    "wesdcrvftbgynhumji,k.l/p;[\"}\\"
   ]
  },
  {
   "cell_type": "markdown",
   "id": "0ac8f392",
   "metadata": {},
   "source": []
  }
 ],
 "metadata": {
  "kernelspec": {
   "display_name": "Python 3",
   "language": "python",
   "name": "python3"
  },
  "language_info": {
   "codemirror_mode": {
    "name": "ipython",
    "version": 3
   },
   "file_extension": ".py",
   "mimetype": "text/x-python",
   "name": "python",
   "nbconvert_exporter": "python",
   "pygments_lexer": "ipython3",
   "version": "3.13.7"
  }
 },
 "nbformat": 4,
 "nbformat_minor": 5
}
