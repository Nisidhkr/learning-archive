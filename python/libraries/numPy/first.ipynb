{
 "cells": [
  {
   "cell_type": "markdown",
   "metadata": {},
   "source": [
    "## Numpy"
   ]
  },
  {
   "cell_type": "markdown",
   "metadata": {},
   "source": []
  },
  {
   "cell_type": "code",
   "execution_count": null,
   "metadata": {},
   "outputs": [],
   "source": [
    "import numpy as np\n",
    "import time"
   ]
  },
  {
   "cell_type": "markdown",
   "metadata": {},
   "source": [
    "### creating array from list"
   ]
  },
  {
   "cell_type": "code",
   "execution_count": null,
   "metadata": {},
   "outputs": [],
   "source": [
    "array = np.array([12,3,4,5,66,7,7,978])\n",
    "print(array)"
   ]
  },
  {
   "cell_type": "code",
   "execution_count": null,
   "metadata": {},
   "outputs": [],
   "source": [
    "twodarray = np.array([[1,2,3],[4,5,6],[7,8,9]])\n",
    "print(twodarray)"
   ]
  },
  {
   "cell_type": "code",
   "execution_count": null,
   "metadata": {},
   "outputs": [],
   "source": [
    "threeDarray = np.array([[[1,2,3],[4,5,6],[7,8,9]],[[10,11,12],[13,14,15],[16,17,18]]])\n",
    "print(threeDarray)"
   ]
  },
  {
   "cell_type": "markdown",
   "metadata": {},
   "source": [
    "### list vs array\n",
    "\n"
   ]
  },
  {
   "cell_type": "code",
   "execution_count": null,
   "metadata": {},
   "outputs": [],
   "source": [
    "plst= [1,2,3]\n",
    "print(plst*2)\n",
    "\n",
    "parray= np.array([1,2,3,])  # element wise multiplication\n",
    "print(parray*2)"
   ]
  },
  {
   "cell_type": "code",
   "execution_count": null,
   "metadata": {},
   "outputs": [],
   "source": [
    "start= time.time()\n",
    "plist = [i*2 for i in range(1000000)]\n",
    "print(\"Time taken for list: \", time.time()-start)\n",
    "\n",
    "start= time.time()\n",
    "parray = np.array([i*2 for i in range(10000000)])\n",
    "print(\"Time taken for array: \", time.time()-start)\n",
    "\n",
    "start= time.time()\n",
    "parraya = np.arange(10000000)*2\n",
    "print(\"Time taken for array from arrange method : \", time.time()-start)"
   ]
  },
  {
   "cell_type": "markdown",
   "metadata": {},
   "source": [
    "### creating array from scratch\n"
   ]
  },
  {
   "cell_type": "code",
   "execution_count": null,
   "metadata": {},
   "outputs": [],
   "source": [
    "zeros = np.zeros((2,3))\n",
    "print(zeros)\n",
    "\n",
    "ones = np.ones((5,3))\n",
    "print(\"araay of ones\\n\",ones)\n",
    "\n",
    "full=np.full((2,3),7)\n",
    "print(full)\n",
    "\n",
    "random= np.random.random((2,3))\n",
    "print(\"random array: \\n\", random*1000000)\n",
    "\n",
    "sequence= np.arange(0,21,2)   # start stop step , range in python is non inclusive outer boundary \n",
    "print(\"sequential array \\n\",sequence)\n",
    "\n"
   ]
  },
  {
   "cell_type": "markdown",
   "metadata": {},
   "source": [
    "### vector , Matrix & tensor\n"
   ]
  },
  {
   "cell_type": "code",
   "execution_count": null,
   "metadata": {},
   "outputs": [],
   "source": [
    "vectors = np.array([1,3,5,7])\n",
    "print(\"vectors: \\n\",vectors)\n",
    "\n",
    "matrix = np.matrix([[2,4,6],[7,5,9]])\n",
    "print(\"matrix: \\n\",matrix)\n",
    "\n",
    "tensor =np.array([[[1,2],[3,5]],[[2,6],[3,9]]])\n",
    "print(\"tensor: \\n\",tensor)\n",
    "\n",
    "\n",
    "\n",
    "\n"
   ]
  },
  {
   "cell_type": "markdown",
   "metadata": {},
   "source": [
    "### Array properties "
   ]
  },
  {
   "cell_type": "code",
   "execution_count": null,
   "metadata": {},
   "outputs": [],
   "source": [
    "arry=np.array([[1,2,3],[1,4,5],[3,4,9]])\n",
    "print(\"Shape: \",arry.shape)\n",
    "print(\"Dimention: \", arry.ndim)\n",
    "print(\"Size: \", arry.size)\n",
    "print(\"Data type: \",arry.dtype)\n",
    "\n",
    "\n"
   ]
  },
  {
   "cell_type": "markdown",
   "metadata": {},
   "source": [
    "### Array Reshaping"
   ]
  },
  {
   "cell_type": "code",
   "execution_count": 29,
   "metadata": {},
   "outputs": [
    {
     "name": "stdout",
     "output_type": "stream",
     "text": [
      "Original array:  [0 1 2 3 4 5 6 7 8 9]\n",
      "reshaped array: \n",
      " [[0 1 2 3 4]\n",
      " [5 6 7 8 9]]\n",
      "flattend array:\n",
      " [0 1 2 3 4 5 6 7 8 9]\n",
      "raveled array:\n",
      " [0 1 2 3 4 5 6 7 8 9]\n",
      "transpose matrix:\n",
      " [[0 5]\n",
      " [1 6]\n",
      " [2 7]\n",
      " [3 8]\n",
      " [4 9]]\n"
     ]
    }
   ],
   "source": [
    "arrayy= np.arange(10)\n",
    "print(\"Original array: \",arrayy)\n",
    "\n",
    "reshaped= arrayy.reshape((2,5))\n",
    "print(\"reshaped array: \\n\", reshaped)\n",
    "\n",
    "flattend= reshaped.flatten()\n",
    "print(\"flattend array:\\n\",flattend)\n",
    "\n",
    "# ravel (return view insted of copy )\n",
    "raveled = reshaped.ravel()\n",
    "print(\"raveled array:\\n\",raveled)\n",
    "\n",
    "# Transpose\n",
    "transposed = reshaped.T\n",
    "print(\"transpose matrix:\\n\",transposed)\n",
    "  \n"
   ]
  }
 ],
 "metadata": {
  "kernelspec": {
   "display_name": ".venv",
   "language": "python",
   "name": "python3"
  },
  "language_info": {
   "codemirror_mode": {
    "name": "ipython",
    "version": 3
   },
   "file_extension": ".py",
   "mimetype": "text/x-python",
   "name": "python",
   "nbconvert_exporter": "python",
   "pygments_lexer": "ipython3",
   "version": "3.12.7"
  }
 },
 "nbformat": 4,
 "nbformat_minor": 2
}
